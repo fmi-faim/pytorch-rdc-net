{
 "cells": [
  {
   "cell_type": "code",
   "execution_count": 1,
   "metadata": {},
   "outputs": [],
   "source": [
    "from matplotlib import pyplot as plt\n",
    "import numpy as np\n",
    "\n",
    "from skimage.io import imread\n",
    "\n",
    "\n",
    "from skimage.measure import label\n",
    "\n",
    "from faim_ipa.utils import get_git_root\n",
    "import sys\n",
    "import torch\n",
    "sys.path.append(str(get_git_root()))"
   ]
  },
  {
   "cell_type": "code",
   "execution_count": 2,
   "metadata": {},
   "outputs": [
    {
     "name": "stderr",
     "output_type": "stream",
     "text": [
      "/home/tibuch/pytorch-rdc-net/.pixi/envs/jupyter/lib/python3.12/site-packages/ignite/handlers/checkpoint.py:16: DeprecationWarning: `TorchScript` support for functional optimizers is deprecated and will be removed in a future PyTorch release. Consider using the `torch.compile` optimizer instead.\n",
      "  from torch.distributed.optim import ZeroRedundancyOptimizer\n"
     ]
    }
   ],
   "source": [
    "from source.rdcnet.model import RDCNet2d\n",
    "from source.data.BBBC039 import BBBC039"
   ]
  },
  {
   "cell_type": "code",
   "execution_count": 3,
   "metadata": {},
   "outputs": [
    {
     "name": "stdout",
     "output_type": "stream",
     "text": [
      "Train: 160, Val: 20, Test: 20\n"
     ]
    }
   ],
   "source": [
    "torch.set_float32_matmul_precision('high')\n",
    "dm = BBBC039(\n",
    "    img_dir=get_git_root() / \"raw_data\" / \"BBBC039\" / \"images\",\n",
    "    label_dir=get_git_root() / \"raw_data\" / \"BBBC039\" / \"masks\",\n",
    ")"
   ]
  },
  {
   "cell_type": "code",
   "execution_count": 4,
   "metadata": {},
   "outputs": [],
   "source": [
    "model = RDCNet2d.load_from_checkpoint(get_git_root() / \"runs/BBBC039-testing/lightning_logs/version_7/checkpoints/rdcnet-epoch=84-mean_true_score=0.85.ckpt\")"
   ]
  },
  {
   "cell_type": "code",
   "execution_count": 5,
   "metadata": {},
   "outputs": [],
   "source": [
    "test_dl = dm.test_dataloader()"
   ]
  },
  {
   "cell_type": "code",
   "execution_count": 6,
   "metadata": {},
   "outputs": [],
   "source": [
    "from tqdm.notebook import tqdm"
   ]
  },
  {
   "cell_type": "code",
   "execution_count": 7,
   "metadata": {},
   "outputs": [],
   "source": [
    "from source.matching import matching"
   ]
  },
  {
   "cell_type": "code",
   "execution_count": 8,
   "metadata": {},
   "outputs": [],
   "source": [
    "model = model.to('cuda')"
   ]
  },
  {
   "cell_type": "code",
   "execution_count": 9,
   "metadata": {},
   "outputs": [
    {
     "data": {
      "application/vnd.jupyter.widget-view+json": {
       "model_id": "8cdcd90497ab4ea7a9f0c609f2959733",
       "version_major": 2,
       "version_minor": 0
      },
      "text/plain": [
       "  0%|          | 0/20 [00:00<?, ?it/s]"
      ]
     },
     "metadata": {},
     "output_type": "display_data"
    }
   ],
   "source": [
    "preds = []\n",
    "gts = []\n",
    "inputs = []\n",
    "for x, y in tqdm(test_dl):\n",
    "    inputs.append(x[0, 0])\n",
    "    preds.append(model.predict_instances(x)[0,0])\n",
    "    gts.append(y[0, 0])"
   ]
  },
  {
   "cell_type": "code",
   "execution_count": 10,
   "metadata": {},
   "outputs": [],
   "source": [
    "from napari import Viewer"
   ]
  },
  {
   "cell_type": "code",
   "execution_count": 11,
   "metadata": {},
   "outputs": [
    {
     "name": "stderr",
     "output_type": "stream",
     "text": [
      "WARNING: Could not find the Qt platform plugin \"wayland\" in \"\"\n"
     ]
    }
   ],
   "source": [
    "viewer = Viewer()"
   ]
  },
  {
   "cell_type": "code",
   "execution_count": 14,
   "metadata": {},
   "outputs": [
    {
     "name": "stdout",
     "output_type": "stream",
     "text": [
      "0.8428487141927083\n"
     ]
    }
   ],
   "source": [
    "i = 12\n",
    "viewer.layers.clear()\n",
    "viewer.add_image(inputs[i], contrast_limits=np.quantile(inputs[i], [0.03, 0.998]))\n",
    "viewer.add_labels(gts[i], name='GT', opacity=0.2)\n",
    "viewer.add_labels(preds[i], name='Prediction')\n",
    "viewer.layers[-1].contour = 2\n",
    "\n",
    "m = matching(gts[i].cpu().numpy(), preds[i])\n",
    "print(m.mean_true_score)"
   ]
  },
  {
   "cell_type": "code",
   "execution_count": null,
   "metadata": {},
   "outputs": [],
   "source": []
  }
 ],
 "metadata": {
  "kernelspec": {
   "display_name": "Python 3 (ipykernel)",
   "language": "python",
   "name": "python3"
  },
  "language_info": {
   "codemirror_mode": {
    "name": "ipython",
    "version": 3
   },
   "file_extension": ".py",
   "mimetype": "text/x-python",
   "name": "python",
   "nbconvert_exporter": "python",
   "pygments_lexer": "ipython3",
   "version": "3.12.7"
  }
 },
 "nbformat": 4,
 "nbformat_minor": 4
}
